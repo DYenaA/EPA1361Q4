{
 "cells": [
  {
   "cell_type": "markdown",
   "metadata": {},
   "source": [
    "# Lake model continued\n",
    "\n",
    "In the previous week you used the lake problem as a means of getting aquinted with the workbench. In this assignment we will continue with the lake problem, focussing explicitly on using it for open exploration. You can use the second part of [this tutorial](https://emaworkbench.readthedocs.io/en/latest/indepth_tutorial/open-exploration.html) for help.\n",
    "\n",
    "**It is paramount that you are using the lake problem with 100 decision variables, rather than the one found on the website with the seperate anthropogenic release decision**\n",
    "\n",
    "## Apply scenario discovery\n",
    "\n",
    "1. Generate 10 policies and 1000 scenarios and evaluate them.\n",
    "2. The experiments array contains the values for each of the 100 decision levers. This might easily mess up the analysis. Remove these columns from the experiment array. *hint: use `experiments.drop`*\n",
    "3. Apply scenario discovery, focussing on the 10 percent of worst outcomes for reliability\n"
   ]
  },
  {
   "cell_type": "code",
   "execution_count": 1,
   "metadata": {},
   "outputs": [],
   "source": [
    "from ema_workbench import (Model, RealParameter, ScalarOutcome)\n",
    "from ema_workbench import (ema_logging)\n",
    "ema_logging.log_to_stderr(ema_logging.INFO)\n",
    "\n",
    "from lakemodel_function import lake_problem\n",
    "\n",
    "import math\n",
    "import numpy as np\n",
    "\n",
    "import pandas as pd\n",
    "import seaborn as sns\n",
    "import matplotlib.pyplot as plt\n",
    "#define model...\n",
    "model = Model(\"LakeProblemModel\", function = lake_problem)\n",
    "\n",
    "\n",
    "#specify uncertainties\n",
    "model.uncertainties = [RealParameter('b', 0.1, 0.45),\n",
    "                       RealParameter('q', 2.0, 4.5),\n",
    "                       RealParameter('mean', 0.01, 0.05),\n",
    "                       RealParameter('stdev', 0.001, 0.005),\n",
    "                       RealParameter('delta', 0.93, 0.99)]\n",
    " \n",
    "# set levers\n",
    "ldecisions = ['l0', 'l1', 'l2', 'l3', 'l4', 'l5', 'l6', 'l7', 'l8', 'l9', 'l10', 'l11', 'l12', 'l13',\n",
    "            'l14', 'l15', 'l16', 'l17', 'l18', 'l19', 'l20', 'l21', 'l22', 'l23', 'l24', 'l25',\n",
    "            'l26', 'l27', 'l28', 'l29', 'l30', 'l31', 'l32', 'l33', 'l34', 'l35', 'l36', 'l37',\n",
    "            'l38', 'l39', 'l40', 'l41', 'l42', 'l43', 'l44', 'l45', 'l46', 'l47', 'l48', 'l49',\n",
    "            'l50', 'l51', 'l52', 'l53', 'l54', 'l55', 'l56', 'l57', 'l58', 'l59', 'l60', 'l61',\n",
    "            'l62', 'l63', 'l64', 'l65', 'l66', 'l67', 'l68', 'l69', 'l70', 'l71', 'l72', 'l73',\n",
    "            'l74', 'l75', 'l76', 'l77', 'l78', 'l79', 'l80', 'l81', 'l82', 'l83', 'l84', 'l85',\n",
    "            'l86', 'l87', 'l88', 'l89', 'l90', 'l91', 'l92', 'l93', 'l94', 'l95', 'l96', 'l97',\n",
    "            'l98', 'l99']\n",
    "\n",
    "levers =[]\n",
    "for i in ldecisions:\n",
    "    levers.append(RealParameter(str(i),0,0.1))\n",
    "\n",
    "model.levers = levers\n",
    "\n",
    " \n",
    "def process_p(values):\n",
    "    values = np.asarray(values)\n",
    "    values = np.mean(values, axis=0)\n",
    "    return np.max(values)\n",
    " \n",
    "#specify outcomes\n",
    "model.outcomes = [ScalarOutcome('max_P'),\n",
    "                  ScalarOutcome('utility'),\n",
    "                  ScalarOutcome('inertia'),\n",
    "                  ScalarOutcome('reliability')]"
   ]
  },
  {
   "cell_type": "code",
   "execution_count": 2,
   "metadata": {},
   "outputs": [
    {
     "name": "stderr",
     "output_type": "stream",
     "text": [
      "[MainProcess/INFO] pool started\n",
      "[MainProcess/INFO] performing 1000 scenarios * 10 policies * 1 model(s) = 10000 experiments\n",
      "[MainProcess/INFO] 1000 cases completed\n",
      "[MainProcess/INFO] 2000 cases completed\n",
      "[MainProcess/INFO] 3000 cases completed\n",
      "[MainProcess/INFO] 4000 cases completed\n",
      "[MainProcess/INFO] 5000 cases completed\n",
      "[MainProcess/INFO] 6000 cases completed\n",
      "[MainProcess/INFO] 7000 cases completed\n",
      "[MainProcess/INFO] 8000 cases completed\n",
      "[MainProcess/INFO] 9000 cases completed\n",
      "[MainProcess/INFO] 10000 cases completed\n",
      "[MainProcess/INFO] experiments finished\n",
      "[MainProcess/INFO] terminating pool\n"
     ]
    }
   ],
   "source": [
    "from ema_workbench import (MultiprocessingEvaluator,\n",
    "                           perform_experiments)\n",
    "import os\n",
    "os.system(\"lakemodel_function.py\")\n",
    "from lakemodel_function import lake_problem\n",
    "\n",
    "with MultiprocessingEvaluator(model, n_processes=7) as evaluator:\n",
    "    experiments, outcomes = evaluator.perform_experiments(scenarios=1000, policies=10)  "
   ]
  },
  {
   "cell_type": "code",
   "execution_count": 8,
   "metadata": {},
   "outputs": [
    {
     "data": {
      "text/html": [
       "<div>\n",
       "<style scoped>\n",
       "    .dataframe tbody tr th:only-of-type {\n",
       "        vertical-align: middle;\n",
       "    }\n",
       "\n",
       "    .dataframe tbody tr th {\n",
       "        vertical-align: top;\n",
       "    }\n",
       "\n",
       "    .dataframe thead th {\n",
       "        text-align: right;\n",
       "    }\n",
       "</style>\n",
       "<table border=\"1\" class=\"dataframe\">\n",
       "  <thead>\n",
       "    <tr style=\"text-align: right;\">\n",
       "      <th></th>\n",
       "      <th>b</th>\n",
       "      <th>delta</th>\n",
       "      <th>mean</th>\n",
       "      <th>q</th>\n",
       "      <th>stdev</th>\n",
       "      <th>l0</th>\n",
       "      <th>l1</th>\n",
       "      <th>l10</th>\n",
       "      <th>l11</th>\n",
       "      <th>l12</th>\n",
       "      <th>...</th>\n",
       "      <th>l93</th>\n",
       "      <th>l94</th>\n",
       "      <th>l95</th>\n",
       "      <th>l96</th>\n",
       "      <th>l97</th>\n",
       "      <th>l98</th>\n",
       "      <th>l99</th>\n",
       "      <th>scenario</th>\n",
       "      <th>policy</th>\n",
       "      <th>model</th>\n",
       "    </tr>\n",
       "  </thead>\n",
       "  <tbody>\n",
       "    <tr>\n",
       "      <th>0</th>\n",
       "      <td>0.169758</td>\n",
       "      <td>0.983584</td>\n",
       "      <td>0.012521</td>\n",
       "      <td>3.384493</td>\n",
       "      <td>0.002407</td>\n",
       "      <td>0.094524</td>\n",
       "      <td>0.098883</td>\n",
       "      <td>0.001028</td>\n",
       "      <td>0.063267</td>\n",
       "      <td>0.024326</td>\n",
       "      <td>...</td>\n",
       "      <td>0.084717</td>\n",
       "      <td>0.014722</td>\n",
       "      <td>0.017318</td>\n",
       "      <td>0.050735</td>\n",
       "      <td>0.062732</td>\n",
       "      <td>0.020759</td>\n",
       "      <td>0.040394</td>\n",
       "      <td>0</td>\n",
       "      <td>0</td>\n",
       "      <td>LakeProblemModel</td>\n",
       "    </tr>\n",
       "    <tr>\n",
       "      <th>1</th>\n",
       "      <td>0.112171</td>\n",
       "      <td>0.955877</td>\n",
       "      <td>0.043298</td>\n",
       "      <td>4.412207</td>\n",
       "      <td>0.002010</td>\n",
       "      <td>0.094524</td>\n",
       "      <td>0.098883</td>\n",
       "      <td>0.001028</td>\n",
       "      <td>0.063267</td>\n",
       "      <td>0.024326</td>\n",
       "      <td>...</td>\n",
       "      <td>0.084717</td>\n",
       "      <td>0.014722</td>\n",
       "      <td>0.017318</td>\n",
       "      <td>0.050735</td>\n",
       "      <td>0.062732</td>\n",
       "      <td>0.020759</td>\n",
       "      <td>0.040394</td>\n",
       "      <td>1</td>\n",
       "      <td>0</td>\n",
       "      <td>LakeProblemModel</td>\n",
       "    </tr>\n",
       "    <tr>\n",
       "      <th>2</th>\n",
       "      <td>0.244332</td>\n",
       "      <td>0.945698</td>\n",
       "      <td>0.044361</td>\n",
       "      <td>2.791913</td>\n",
       "      <td>0.002685</td>\n",
       "      <td>0.094524</td>\n",
       "      <td>0.098883</td>\n",
       "      <td>0.001028</td>\n",
       "      <td>0.063267</td>\n",
       "      <td>0.024326</td>\n",
       "      <td>...</td>\n",
       "      <td>0.084717</td>\n",
       "      <td>0.014722</td>\n",
       "      <td>0.017318</td>\n",
       "      <td>0.050735</td>\n",
       "      <td>0.062732</td>\n",
       "      <td>0.020759</td>\n",
       "      <td>0.040394</td>\n",
       "      <td>2</td>\n",
       "      <td>0</td>\n",
       "      <td>LakeProblemModel</td>\n",
       "    </tr>\n",
       "    <tr>\n",
       "      <th>3</th>\n",
       "      <td>0.206959</td>\n",
       "      <td>0.982685</td>\n",
       "      <td>0.012393</td>\n",
       "      <td>3.531603</td>\n",
       "      <td>0.001903</td>\n",
       "      <td>0.094524</td>\n",
       "      <td>0.098883</td>\n",
       "      <td>0.001028</td>\n",
       "      <td>0.063267</td>\n",
       "      <td>0.024326</td>\n",
       "      <td>...</td>\n",
       "      <td>0.084717</td>\n",
       "      <td>0.014722</td>\n",
       "      <td>0.017318</td>\n",
       "      <td>0.050735</td>\n",
       "      <td>0.062732</td>\n",
       "      <td>0.020759</td>\n",
       "      <td>0.040394</td>\n",
       "      <td>3</td>\n",
       "      <td>0</td>\n",
       "      <td>LakeProblemModel</td>\n",
       "    </tr>\n",
       "    <tr>\n",
       "      <th>4</th>\n",
       "      <td>0.334038</td>\n",
       "      <td>0.931414</td>\n",
       "      <td>0.041352</td>\n",
       "      <td>3.029794</td>\n",
       "      <td>0.003081</td>\n",
       "      <td>0.094524</td>\n",
       "      <td>0.098883</td>\n",
       "      <td>0.001028</td>\n",
       "      <td>0.063267</td>\n",
       "      <td>0.024326</td>\n",
       "      <td>...</td>\n",
       "      <td>0.084717</td>\n",
       "      <td>0.014722</td>\n",
       "      <td>0.017318</td>\n",
       "      <td>0.050735</td>\n",
       "      <td>0.062732</td>\n",
       "      <td>0.020759</td>\n",
       "      <td>0.040394</td>\n",
       "      <td>4</td>\n",
       "      <td>0</td>\n",
       "      <td>LakeProblemModel</td>\n",
       "    </tr>\n",
       "  </tbody>\n",
       "</table>\n",
       "<p>5 rows × 108 columns</p>\n",
       "</div>"
      ],
      "text/plain": [
       "          b     delta      mean         q     stdev        l0        l1  \\\n",
       "0  0.169758  0.983584  0.012521  3.384493  0.002407  0.094524  0.098883   \n",
       "1  0.112171  0.955877  0.043298  4.412207  0.002010  0.094524  0.098883   \n",
       "2  0.244332  0.945698  0.044361  2.791913  0.002685  0.094524  0.098883   \n",
       "3  0.206959  0.982685  0.012393  3.531603  0.001903  0.094524  0.098883   \n",
       "4  0.334038  0.931414  0.041352  3.029794  0.003081  0.094524  0.098883   \n",
       "\n",
       "        l10       l11       l12  ...       l93       l94       l95       l96  \\\n",
       "0  0.001028  0.063267  0.024326  ...  0.084717  0.014722  0.017318  0.050735   \n",
       "1  0.001028  0.063267  0.024326  ...  0.084717  0.014722  0.017318  0.050735   \n",
       "2  0.001028  0.063267  0.024326  ...  0.084717  0.014722  0.017318  0.050735   \n",
       "3  0.001028  0.063267  0.024326  ...  0.084717  0.014722  0.017318  0.050735   \n",
       "4  0.001028  0.063267  0.024326  ...  0.084717  0.014722  0.017318  0.050735   \n",
       "\n",
       "        l97       l98       l99  scenario  policy             model  \n",
       "0  0.062732  0.020759  0.040394         0       0  LakeProblemModel  \n",
       "1  0.062732  0.020759  0.040394         1       0  LakeProblemModel  \n",
       "2  0.062732  0.020759  0.040394         2       0  LakeProblemModel  \n",
       "3  0.062732  0.020759  0.040394         3       0  LakeProblemModel  \n",
       "4  0.062732  0.020759  0.040394         4       0  LakeProblemModel  \n",
       "\n",
       "[5 rows x 108 columns]"
      ]
     },
     "execution_count": 8,
     "metadata": {},
     "output_type": "execute_result"
    }
   ],
   "source": [
    "experiments.head()"
   ]
  },
  {
   "cell_type": "code",
   "execution_count": 52,
   "metadata": {
    "collapsed": true
   },
   "outputs": [
    {
     "name": "stdout",
     "output_type": "stream",
     "text": [
      "(10000, 108)\n"
     ]
    }
   ],
   "source": [
    "print(experiments.shape)"
   ]
  },
  {
   "cell_type": "code",
   "execution_count": 51,
   "metadata": {
    "collapsed": true
   },
   "outputs": [
    {
     "name": "stdout",
     "output_type": "stream",
     "text": [
      "(10000, 8)\n"
     ]
    }
   ],
   "source": [
    "#removing columns using experiments.drop\n",
    "#from ema_workbench.analysis import prim\n",
    "#experiments.policy.unique()\n",
    "\n",
    "from ema_workbench import Policy\n",
    "\n",
    "cleaned = experiments.drop(columns=[l.name for l in model.levers])\n",
    "cleaned.head()\n",
    "print (cleaned.shape)"
   ]
  },
  {
   "cell_type": "markdown",
   "metadata": {},
   "source": [
    "## Visualize the results using Dimensional Stacking\n",
    "Take the classification of outcomes as used in step 3 of scenario discovery, and instead visualize the results using dimensional stacking. How do these results compare to the insights from scenario discovery?"
   ]
  },
  {
   "cell_type": "code",
   "execution_count": 60,
   "metadata": {
    "scrolled": false
   },
   "outputs": [
    {
     "name": "stderr",
     "output_type": "stream",
     "text": [
      "[MainProcess/INFO] model dropped from analysis because only a single category\n"
     ]
    },
    {
     "data": {
      "image/png": "[encoded data removed]",
      "text/plain": [
       "<Figure size 720x720 with 4 Axes>"
      ]
     },
     "metadata": {},
     "output_type": "display_data"
    }
   ],
   "source": [
    "from ema_workbench.analysis import dimensional_stacking\n",
    "\n",
    "x = cleaned\n",
    "y = outcomes['max_P'] < 0.8\n",
    "\n",
    "dimensional_stacking.create_pivot_plot(x,y, 2, nbins=3)\n",
    "plt.show()"
   ]
  },
  {
   "cell_type": "code",
   "execution_count": 59,
   "metadata": {
    "scrolled": true
   },
   "outputs": [
    {
     "name": "stderr",
     "output_type": "stream",
     "text": [
      "[MainProcess/INFO] model dropped from analysis because only a single category\n",
      "[MainProcess/INFO] 10000 points remaining, containing 3212 cases of interest\n",
      "[MainProcess/INFO] mean: 1.0, mass: 0.1467, coverage: 0.4567247820672478, density: 1.0 restricted_dimensions: 3\n"
     ]
    }
   ],
   "source": [
    "#comparing to scenario discovery plots\n",
    "x = cleaned\n",
    "y = outcomes['max_P'] < 0.8\n",
    "\n",
    "primalg = prim.Prim(x,y, 0.8, peel_alpha=0.1)\n",
    "box1= primalg.find_box()"
   ]
  },
  {
   "cell_type": "code",
   "execution_count": 55,
   "metadata": {},
   "outputs": [
    {
     "data": {
      "text/html": [
       "\n",
       "<div id=\"altair-viz-9e9b956c81db45b1a724f08272e4d436\"></div>\n",
       "<script type=\"text/javascript\">\n",
       "  (function(spec, embedOpt){\n",
       "    let outputDiv = document.currentScript.previousElementSibling;\n",
       "    if (outputDiv.id !== \"altair-viz-9e9b956c81db45b1a724f08272e4d436\") {\n",
       "      outputDiv = document.getElementById(\"altair-viz-9e9b956c81db45b1a724f08272e4d436\");\n",
       "    }\n",
       "    const paths = {\n",
       "      \"vega\": \"https://cdn.jsdelivr.net/npm//vega@5?noext\",\n",
       "      \"vega-lib\": \"https://cdn.jsdelivr.net/npm//vega-lib?noext\",\n",
       "      \"vega-lite\": \"https://cdn.jsdelivr.net/npm//vega-lite@4.8.1?noext\",\n",
       "      \"vega-embed\": \"https://cdn.jsdelivr.net/npm//vega-embed@6?noext\",\n",
       "    };\n",
       "\n",
       "    function loadScript(lib) {\n",
       "      return new Promise(function(resolve, reject) {\n",
       "        var s = document.createElement('script');\n",
       "        s.src = paths[lib];\n",
       "        s.async = true;\n",
       "        s.onload = () => resolve(paths[lib]);\n",
       "        s.onerror = () => reject(`Error loading script: ${paths[lib]}`);\n",
       "        document.getElementsByTagName(\"head\")[0].appendChild(s);\n",
       "      });\n",
       "    }\n",
       "\n",
       "    function showError(err) {\n",
       "      outputDiv.innerHTML = `<div class=\"error\" style=\"color:red;\">${err}</div>`;\n",
       "      throw err;\n",
       "    }\n",
       "\n",
       "    function displayChart(vegaEmbed) {\n",
       "      vegaEmbed(outputDiv, spec, embedOpt)\n",
       "        .catch(err => showError(`Javascript Error: ${err.message}<br>This usually means there's a typo in your chart specification. See the javascript console for the full traceback.`));\n",
       "    }\n",
       "\n",
       "    if(typeof define === \"function\" && define.amd) {\n",
       "      requirejs.config({paths});\n",
       "      require([\"vega-embed\"], displayChart, err => showError(`Error loading script: ${err.message}`));\n",
       "    } else if (typeof vegaEmbed === \"function\") {\n",
       "      displayChart(vegaEmbed);\n",
       "    } else {\n",
       "      loadScript(\"vega\")\n",
       "        .then(() => loadScript(\"vega-lite\"))\n",
       "        .then(() => loadScript(\"vega-embed\"))\n",
       "        .catch(showError)\n",
       "        .then(() => displayChart(vegaEmbed));\n",
       "    }\n",
       "  })({\"config\": {\"view\": {\"continuousWidth\": 400, \"continuousHeight\": 300}}, \"vconcat\": [{\"data\": {\"name\": \"data-79a50c11c505a35920381a6800b42738\"}, \"mark\": {\"type\": \"circle\", \"size\": 75}, \"encoding\": {\"color\": {\"type\": \"ordinal\", \"field\": \"res_dim\", \"scale\": {\"range\": [\"#eff9b6\", \"#d0edb3\", \"#97d6b9\", \"#5dc0c0\", \"#31a5c2\", \"#1f80b8\", \"#2354a3\", \"#21318d\"]}}, \"opacity\": {\"condition\": {\"value\": 1, \"selection\": \"selector001\"}, \"value\": 0.4}, \"tooltip\": [{\"type\": \"ordinal\", \"field\": \"id\"}, {\"type\": \"quantitative\", \"field\": \"coverage\", \"format\": \".2\"}, {\"type\": \"quantitative\", \"field\": \"density\", \"format\": \".2\"}, {\"type\": \"ordinal\", \"field\": \"res_dim\"}], \"x\": {\"type\": \"quantitative\", \"field\": \"coverage\"}, \"y\": {\"type\": \"quantitative\", \"field\": \"density\"}}, \"height\": 400, \"selection\": {\"selector001\": {\"type\": \"single\", \"fields\": [\"id\"]}}, \"width\": 400}, {\"layer\": [{\"data\": {\"name\": \"data-03cdeb7e939970f44cd7b9412ff5d26b\"}, \"mark\": \"rule\", \"encoding\": {\"x\": {\"type\": \"quantitative\", \"axis\": {\"grid\": false, \"labels\": false, \"title\": \"box limits\"}, \"field\": \"x_lower\", \"scale\": {\"domain\": [0, 1], \"padding\": 0.1}}, \"x2\": {\"field\": \"x_upper\"}, \"y\": {\"type\": \"nominal\", \"field\": \"name\", \"scale\": {\"padding\": 1.0}}}, \"transform\": [{\"calculate\": \"(datum.x1-datum.minimum)/(datum.maximum-datum.minimum)\", \"as\": \"x_lower\"}, {\"calculate\": \"(datum.x2-datum.minimum)/(datum.maximum-datum.minimum)\", \"as\": \"x_upper\"}, {\"filter\": {\"selection\": \"selector001\"}}], \"width\": 400}, {\"data\": {\"name\": \"data-03cdeb7e939970f44cd7b9412ff5d26b\"}, \"mark\": {\"type\": \"text\", \"align\": \"left\", \"baseline\": \"top\", \"dy\": 5}, \"encoding\": {\"text\": {\"type\": \"ordinal\", \"field\": \"text\"}, \"x\": {\"type\": \"quantitative\", \"axis\": {\"grid\": false, \"labels\": false, \"title\": \"box limits\"}, \"field\": \"x_lower\", \"scale\": {\"domain\": [0, 1], \"padding\": 0.1}}, \"x2\": {\"field\": \"x_upper\"}, \"y\": {\"type\": \"nominal\", \"field\": \"name\", \"scale\": {\"padding\": 1.0}}}, \"transform\": [{\"calculate\": \"(datum.x1-datum.minimum)/(datum.maximum-datum.minimum)\", \"as\": \"x_lower\"}, {\"calculate\": \"(datum.x2-datum.minimum)/(datum.maximum-datum.minimum)\", \"as\": \"x_upper\"}, {\"filter\": {\"selection\": \"selector001\"}}, {\"calculate\": \"datum.qp_lower>0?format(datum.x1, \\\".2\\\")+\\\" (\\\"+format(datum.qp_lower, \\\".1~g\\\")+\\\")\\\" :format(datum.x1, \\\".2\\\")\", \"as\": \"text\"}], \"width\": 400}, {\"data\": {\"name\": \"data-03cdeb7e939970f44cd7b9412ff5d26b\"}, \"mark\": {\"type\": \"text\", \"align\": \"right\", \"baseline\": \"top\", \"dy\": 5}, \"encoding\": {\"text\": {\"type\": \"ordinal\", \"field\": \"text\"}, \"x\": {\"type\": \"quantitative\", \"field\": \"x_upper\"}, \"x2\": {\"field\": \"x_upper\"}, \"y\": {\"type\": \"nominal\", \"field\": \"name\", \"scale\": {\"padding\": 1.0}}}, \"transform\": [{\"calculate\": \"(datum.x1-datum.minimum)/(datum.maximum-datum.minimum)\", \"as\": \"x_lower\"}, {\"calculate\": \"(datum.x2-datum.minimum)/(datum.maximum-datum.minimum)\", \"as\": \"x_upper\"}, {\"filter\": {\"selection\": \"selector001\"}}, {\"calculate\": \"datum.qp_upper>0?format(datum.x2, \\\".2\\\")+\\\" (\\\"+format(datum.qp_upper, \\\".1\\\")+\\\")\\\" :format(datum.x2, \\\".2\\\")\", \"as\": \"text\"}], \"width\": 400}, {\"data\": {\"name\": \"data-bb8d07f6df3d47a6a475317795287b23\"}, \"mark\": {\"type\": \"rect\", \"opacity\": 0.05}, \"encoding\": {\"x\": {\"type\": \"quantitative\", \"field\": \"start\"}, \"x2\": {\"field\": \"end\"}}}, {\"data\": {\"name\": \"data-a675578f67d8bd2d7abe1db4e908c50b\"}, \"mark\": \"point\", \"encoding\": {\"x\": {\"type\": \"quantitative\", \"field\": \"x\"}, \"y\": {\"type\": \"nominal\", \"field\": \"name\"}}, \"transform\": [{\"filter\": {\"selection\": \"selector001\"}}], \"width\": 400}, {\"data\": {\"name\": \"data-a675578f67d8bd2d7abe1db4e908c50b\"}, \"mark\": {\"type\": \"text\", \"align\": \"center\", \"baseline\": \"top\", \"dy\": 5}, \"encoding\": {\"text\": {\"type\": \"nominal\", \"field\": \"item\"}, \"x\": {\"type\": \"quantitative\", \"field\": \"x\"}, \"y\": {\"type\": \"nominal\", \"field\": \"name\"}}, \"transform\": [{\"filter\": {\"selection\": \"selector001\"}}], \"width\": 400}]}], \"$schema\": \"https://vega.github.io/schema/vega-lite/v4.8.1.json\", \"datasets\": {\"data-79a50c11c505a35920381a6800b42738\": [{\"coverage\": 1.0, \"density\": 0.3212, \"id\": 0, \"mass\": 1.0, \"mean\": 0.3212, \"res_dim\": 0}, {\"coverage\": 1.0, \"density\": 0.35688888888888887, \"id\": 1, \"mass\": 0.9, \"mean\": 0.35688888888888887, \"res_dim\": 1}, {\"coverage\": 1.0, \"density\": 0.39654320987654323, \"id\": 2, \"mass\": 0.81, \"mean\": 0.39654320987654323, \"res_dim\": 1}, {\"coverage\": 1.0, \"density\": 0.44060356652949245, \"id\": 3, \"mass\": 0.729, \"mean\": 0.44060356652949245, \"res_dim\": 1}, {\"coverage\": 0.9993773349937733, \"density\": 0.4893292682926829, \"id\": 4, \"mass\": 0.656, \"mean\": 0.4893292682926829, \"res_dim\": 2}, {\"coverage\": 0.9975093399750934, \"density\": 0.5430508474576271, \"id\": 5, \"mass\": 0.59, \"mean\": 0.5430508474576271, \"res_dim\": 2}, {\"coverage\": 0.9878580323785803, \"density\": 0.5975517890772128, \"id\": 6, \"mass\": 0.531, \"mean\": 0.5975517890772128, \"res_dim\": 2}, {\"coverage\": 0.962640099626401, \"density\": 0.6482180293501049, \"id\": 7, \"mass\": 0.477, \"mean\": 0.6482180293501049, \"res_dim\": 2}, {\"coverage\": 0.936799501867995, \"density\": 0.7013986013986014, \"id\": 8, \"mass\": 0.429, \"mean\": 0.7013986013986014, \"res_dim\": 2}, {\"coverage\": 0.9134495641344956, \"density\": 0.7601036269430052, \"id\": 9, \"mass\": 0.386, \"mean\": 0.7601036269430052, \"res_dim\": 2}, {\"coverage\": 0.8953922789539228, \"density\": 0.8288184438040346, \"id\": 10, \"mass\": 0.347, \"mean\": 0.8288184438040346, \"res_dim\": 2}, {\"coverage\": 0.8490037359900373, \"density\": 0.8740384615384615, \"id\": 11, \"mass\": 0.312, \"mean\": 0.8740384615384615, \"res_dim\": 2}, {\"coverage\": 0.7920298879202988, \"density\": 0.9085714285714286, \"id\": 12, \"mass\": 0.28, \"mean\": 0.9085714285714286, \"res_dim\": 2}, {\"coverage\": 0.7378580323785803, \"density\": 0.9404761904761905, \"id\": 13, \"mass\": 0.252, \"mean\": 0.9404761904761905, \"res_dim\": 2}, {\"coverage\": 0.6833748443337484, \"density\": 0.9712389380530974, \"id\": 14, \"mass\": 0.226, \"mean\": 0.9712389380530974, \"res_dim\": 2}, {\"coverage\": 0.6217310087173101, \"density\": 0.983743842364532, \"id\": 15, \"mass\": 0.203, \"mean\": 0.983743842364532, \"res_dim\": 2}, {\"coverage\": 0.564134495641345, \"density\": 0.9956043956043956, \"id\": 16, \"mass\": 0.182, \"mean\": 0.9956043956043956, \"res_dim\": 2}, {\"coverage\": 0.5071606475716065, \"density\": 0.9993865030674847, \"id\": 17, \"mass\": 0.163, \"mean\": 0.9993865030674847, \"res_dim\": 2}, {\"coverage\": 0.4567247820672478, \"density\": 1.0, \"id\": 18, \"mass\": 0.1467, \"mean\": 1.0, \"res_dim\": 3}], \"data-03cdeb7e939970f44cd7b9412ff5d26b\": [{\"x1\": 0.13497352907274215, \"x2\": 0.4499510727041758, \"name\": \"b\", \"id\": 1, \"minimum\": 0.10016725638043117, \"maximum\": 0.4499510727041758, \"qp_lower\": 3.604658949447002e-13, \"qp_upper\": -1.0}, {\"x1\": 0.16665167839728165, \"x2\": 0.4499510727041758, \"name\": \"b\", \"id\": 2, \"minimum\": 0.10016725638043117, \"maximum\": 0.4499510727041758, \"qp_lower\": 2.0787816734561988e-46, \"qp_upper\": -1.0}, {\"x1\": 0.1948371602122247, \"x2\": 0.4499510727041758, \"name\": \"b\", \"id\": 3, \"minimum\": 0.10016725638043117, \"maximum\": 0.4499510727041758, \"qp_lower\": 1.2438939890684228e-100, \"qp_upper\": -1.0}, {\"x1\": 0.1948371602122247, \"x2\": 0.4499510727041758, \"name\": \"b\", \"id\": 4, \"minimum\": 0.10016725638043117, \"maximum\": 0.4499510727041758, \"qp_lower\": 2.55493525285043e-103, \"qp_upper\": -1.0}, {\"x1\": 2.265921523756675, \"x2\": 4.4976192682509675, \"name\": \"q\", \"id\": 4, \"minimum\": 2.0011379157842257, \"maximum\": 4.4976192682509675, \"qp_lower\": 1.2592249087118155e-15, \"qp_upper\": -1.0}, {\"x1\": 0.21888909656374325, \"x2\": 0.4499510727041758, \"name\": \"b\", \"id\": 5, \"minimum\": 0.10016725638043117, \"maximum\": 0.4499510727041758, \"qp_lower\": 6.273343144242114e-182, \"qp_upper\": -1.0}, {\"x1\": 2.265921523756675, \"x2\": 4.4976192682509675, \"name\": \"q\", \"id\": 5, \"minimum\": 2.0011379157842257, \"maximum\": 4.4976192682509675, \"qp_lower\": 7.335976685315776e-19, \"qp_upper\": -1.0}, {\"x1\": 0.21888909656374325, \"x2\": 0.4499510727041758, \"name\": \"b\", \"id\": 6, \"minimum\": 0.10016725638043117, \"maximum\": 0.4499510727041758, \"qp_lower\": 6.63209179334511e-190, \"qp_upper\": -1.0}, {\"x1\": 2.4989246919274755, \"x2\": 4.4976192682509675, \"name\": \"q\", \"id\": 6, \"minimum\": 2.0011379157842257, \"maximum\": 4.4976192682509675, \"qp_lower\": 3.5966876073575883e-60, \"qp_upper\": -1.0}, {\"x1\": 0.21888909656374325, \"x2\": 0.4499510727041758, \"name\": \"b\", \"id\": 7, \"minimum\": 0.10016725638043117, \"maximum\": 0.4499510727041758, \"qp_lower\": 3.7945850957972955e-199, \"qp_upper\": -1.0}, {\"x1\": 2.7053524567270184, \"x2\": 4.4976192682509675, \"name\": \"q\", \"id\": 7, \"minimum\": 2.0011379157842257, \"maximum\": 4.4976192682509675, \"qp_lower\": 4.513867217179742e-113, \"qp_upper\": -1.0}, {\"x1\": 0.24377839374272076, \"x2\": 0.4499510727041758, \"name\": \"b\", \"id\": 8, \"minimum\": 0.10016725638043117, \"maximum\": 0.4499510727041758, \"qp_lower\": 4.0815333838567845e-279, \"qp_upper\": -1.0}, {\"x1\": 2.7053524567270184, \"x2\": 4.4976192682509675, \"name\": \"q\", \"id\": 8, \"minimum\": 2.0011379157842257, \"maximum\": 4.4976192682509675, \"qp_lower\": 5.4727871994988936e-117, \"qp_upper\": -1.0}, {\"x1\": 0.2617462139731398, \"x2\": 0.4499510727041758, \"name\": \"b\", \"id\": 9, \"minimum\": 0.10016725638043117, \"maximum\": 0.4499510727041758, \"qp_lower\": 0.0, \"qp_upper\": -1.0}, {\"x1\": 2.7053524567270184, \"x2\": 4.4976192682509675, \"name\": \"q\", \"id\": 9, \"minimum\": 2.0011379157842257, \"maximum\": 4.4976192682509675, \"qp_lower\": 6.636397911531069e-139, \"qp_upper\": -1.0}, {\"x1\": 0.2825459107312527, \"x2\": 0.4499510727041758, \"name\": \"b\", \"id\": 10, \"minimum\": 0.10016725638043117, \"maximum\": 0.4499510727041758, \"qp_lower\": 0.0, \"qp_upper\": -1.0}, {\"x1\": 2.7053524567270184, \"x2\": 4.4976192682509675, \"name\": \"q\", \"id\": 10, \"minimum\": 2.0011379157842257, \"maximum\": 4.4976192682509675, \"qp_lower\": 6.765700348930845e-154, \"qp_upper\": -1.0}, {\"x1\": 0.2825459107312527, \"x2\": 0.4499510727041758, \"name\": \"b\", \"id\": 11, \"minimum\": 0.10016725638043117, \"maximum\": 0.4499510727041758, \"qp_lower\": 0.0, \"qp_upper\": -1.0}, {\"x1\": 2.8737179061634386, \"x2\": 4.4976192682509675, \"name\": \"q\", \"id\": 11, \"minimum\": 2.0011379157842257, \"maximum\": 4.4976192682509675, \"qp_lower\": 2.1618771699961573e-214, \"qp_upper\": -1.0}, {\"x1\": 0.2825459107312527, \"x2\": 0.4499510727041758, \"name\": \"b\", \"id\": 12, \"minimum\": 0.10016725638043117, \"maximum\": 0.4499510727041758, \"qp_lower\": 0.0, \"qp_upper\": -1.0}, {\"x1\": 3.001591936522134, \"x2\": 4.4976192682509675, \"name\": \"q\", \"id\": 12, \"minimum\": 2.0011379157842257, \"maximum\": 4.4976192682509675, \"qp_lower\": 8.168800179702655e-260, \"qp_upper\": -1.0}, {\"x1\": 0.29982622766381606, \"x2\": 0.4499510727041758, \"name\": \"b\", \"id\": 13, \"minimum\": 0.10016725638043117, \"maximum\": 0.4499510727041758, \"qp_lower\": 0.0, \"qp_upper\": -1.0}, {\"x1\": 3.001591936522134, \"x2\": 4.4976192682509675, \"name\": \"q\", \"id\": 13, \"minimum\": 2.0011379157842257, \"maximum\": 4.4976192682509675, \"qp_lower\": 4.524344653783605e-258, \"qp_upper\": -1.0}, {\"x1\": 0.31379947447921724, \"x2\": 0.4499510727041758, \"name\": \"b\", \"id\": 14, \"minimum\": 0.10016725638043117, \"maximum\": 0.4499510727041758, \"qp_lower\": 0.0, \"qp_upper\": -1.0}, {\"x1\": 3.001591936522134, \"x2\": 4.4976192682509675, \"name\": \"q\", \"id\": 14, \"minimum\": 2.0011379157842257, \"maximum\": 4.4976192682509675, \"qp_lower\": 3.142640588052353e-275, \"qp_upper\": -1.0}, {\"x1\": 0.31379947447921724, \"x2\": 0.4499510727041758, \"name\": \"b\", \"id\": 15, \"minimum\": 0.10016725638043117, \"maximum\": 0.4499510727041758, \"qp_lower\": 0.0, \"qp_upper\": -1.0}, {\"x1\": 3.1921422610324126, \"x2\": 4.4976192682509675, \"name\": \"q\", \"id\": 15, \"minimum\": 2.0011379157842257, \"maximum\": 4.4976192682509675, \"qp_lower\": 9.352000813239593e-281, \"qp_upper\": -1.0}, {\"x1\": 0.32820468693999955, \"x2\": 0.4499510727041758, \"name\": \"b\", \"id\": 16, \"minimum\": 0.10016725638043117, \"maximum\": 0.4499510727041758, \"qp_lower\": 0.0, \"qp_upper\": -1.0}, {\"x1\": 3.1921422610324126, \"x2\": 4.4976192682509675, \"name\": \"q\", \"id\": 16, \"minimum\": 2.0011379157842257, \"maximum\": 4.4976192682509675, \"qp_lower\": 5.655277071647359e-260, \"qp_upper\": -1.0}, {\"x1\": 0.34245432741044646, \"x2\": 0.4499510727041758, \"name\": \"b\", \"id\": 17, \"minimum\": 0.10016725638043117, \"maximum\": 0.4499510727041758, \"qp_lower\": 0.0, \"qp_upper\": -1.0}, {\"x1\": 3.1921422610324126, \"x2\": 4.4976192682509675, \"name\": \"q\", \"id\": 17, \"minimum\": 2.0011379157842257, \"maximum\": 4.4976192682509675, \"qp_lower\": 2.3134149801625242e-216, \"qp_upper\": -1.0}, {\"x1\": 0.34245432741044646, \"x2\": 0.4499510727041758, \"name\": \"b\", \"id\": 18, \"minimum\": 0.10016725638043117, \"maximum\": 0.4499510727041758, \"qp_lower\": 0.0, \"qp_upper\": -1.0}, {\"x1\": 3.1921422610324126, \"x2\": 4.4976192682509675, \"name\": \"q\", \"id\": 18, \"minimum\": 2.0011379157842257, \"maximum\": 4.4976192682509675, \"qp_lower\": 8.01894091215001e-192, \"qp_upper\": -1.0}], \"data-bb8d07f6df3d47a6a475317795287b23\": [{\"start\": 0, \"end\": 1}], \"data-a675578f67d8bd2d7abe1db4e908c50b\": [{\"name\": \"policy,  0.41\", \"n_items\": 10, \"item\": 0, \"id\": 18, \"x\": 0.0}, {\"name\": \"policy,  0.41\", \"n_items\": 10, \"item\": 1, \"id\": 18, \"x\": 0.1111111111111111}, {\"name\": \"policy,  0.41\", \"n_items\": 10, \"item\": 2, \"id\": 18, \"x\": 0.2222222222222222}, {\"name\": \"policy,  0.41\", \"n_items\": 10, \"item\": 3, \"id\": 18, \"x\": 0.3333333333333333}, {\"name\": \"policy,  0.41\", \"n_items\": 10, \"item\": 4, \"id\": 18, \"x\": 0.4444444444444444}, {\"name\": \"policy,  0.41\", \"n_items\": 10, \"item\": 5, \"id\": 18, \"x\": 0.5555555555555556}, {\"name\": \"policy,  0.41\", \"n_items\": 10, \"item\": 6, \"id\": 18, \"x\": 0.6666666666666666}, {\"name\": \"policy,  0.41\", \"n_items\": 10, \"item\": 7, \"id\": 18, \"x\": 0.7777777777777778}, {\"name\": \"policy,  0.41\", \"n_items\": 10, \"item\": 8, \"id\": 18, \"x\": 0.8888888888888888}]}}, {\"mode\": \"vega-lite\"});\n",
       "</script>"
      ],
      "text/plain": [
       "alt.VConcatChart(...)"
      ]
     },
     "execution_count": 55,
     "metadata": {},
     "output_type": "execute_result"
    }
   ],
   "source": [
    "box1.inspect_tradeoff()"
   ]
  }
 ],
 "metadata": {
  "kernelspec": {
   "display_name": "Python 3",
   "language": "python",
   "name": "python3"
  },
  "language_info": {
   "codemirror_mode": {
    "name": "ipython",
    "version": 3
   },
   "file_extension": ".py",
   "mimetype": "text/x-python",
   "name": "python",
   "nbconvert_exporter": "python",
   "pygments_lexer": "ipython3",
   "version": "3.7.6"
  }
 },
 "nbformat": 4,
 "nbformat_minor": 4
}
